{
 "cells": [
  {
   "cell_type": "code",
   "execution_count": 1,
   "metadata": {},
   "outputs": [],
   "source": [
    "from collections import defaultdict\n",
    "from itertools import combinations\n",
    "from pathlib import Path\n",
    "from gensim.models import Word2Vec\n",
    "import networkx as nx\n",
    "import pandas as pd\n",
    "import numpy as np\n",
    "from matplotlib import pyplot\n",
    "eigMatrix = pd.read_csv(\"spectral_embeddings.csv\").to_numpy()"
   ]
  },
  {
   "cell_type": "code",
   "execution_count": 5,
   "metadata": {},
   "outputs": [],
   "source": [
    "k_neighbors = 50\n",
    "\n",
    "def compute_distances(matrix):\n",
    "    squared_matrix = np.sum(matrix**2, axis=1).reshape(-1, 1)\n",
    "    squared_distances = squared_matrix + squared_matrix.T - 2 * np.dot(matrix, matrix.T)\n",
    "    np.fill_diagonal(squared_distances, np.inf)\n",
    "    distances = np.sqrt(squared_distances)\n",
    "    return distances\n",
    "\n",
    "distance_matrix = compute_distances(eigMatrix)\n"
   ]
  },
  {
   "cell_type": "code",
   "execution_count": 6,
   "metadata": {},
   "outputs": [],
   "source": [
    "def knn(matrix, k):\n",
    "    knn_dict = {}\n",
    "    for i in range(len(matrix)):\n",
    "        print(f\"Completed for: {i}\")\n",
    "        nearest_neighbors = np.argsort(distance_matrix[i])[:k]\n",
    "        knn_dict[i] = nearest_neighbors.tolist()\n",
    "    \n",
    "    return knn_dict"
   ]
  },
  {
   "cell_type": "code",
   "execution_count": null,
   "metadata": {},
   "outputs": [],
   "source": [
    "knn_neighbors = knn(eigMatrix, k_neighbors)"
   ]
  }
 ],
 "metadata": {
  "kernelspec": {
   "display_name": "dmenv",
   "language": "python",
   "name": "python3"
  },
  "language_info": {
   "codemirror_mode": {
    "name": "ipython",
    "version": 3
   },
   "file_extension": ".py",
   "mimetype": "text/x-python",
   "name": "python",
   "nbconvert_exporter": "python",
   "pygments_lexer": "ipython3",
   "version": "3.11.5"
  }
 },
 "nbformat": 4,
 "nbformat_minor": 2
}
